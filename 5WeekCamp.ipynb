{
  "nbformat": 4,
  "nbformat_minor": 0,
  "metadata": {
    "colab": {
      "name": "5WeekCamp.ipynb",
      "provenance": [],
      "authorship_tag": "ABX9TyPEcqAE404W2KA/lwCxhsWD",
      "include_colab_link": true
    },
    "kernelspec": {
      "name": "python3",
      "display_name": "Python 3"
    },
    "language_info": {
      "name": "python"
    }
  },
  "cells": [
    {
      "cell_type": "markdown",
      "metadata": {
        "id": "view-in-github",
        "colab_type": "text"
      },
      "source": [
        "<a href=\"https://colab.research.google.com/github/TefoRabu/learnPython/blob/main/5WeekCamp.ipynb\" target=\"_parent\"><img src=\"https://colab.research.google.com/assets/colab-badge.svg\" alt=\"Open In Colab\"/></a>"
      ]
    },
    {
      "cell_type": "code",
      "execution_count": 2,
      "metadata": {
        "colab": {
          "base_uri": "https://localhost:8080/"
        },
        "id": "o4BA65VeYi58",
        "outputId": "0cfe3750-518f-43ee-c026-daf457bde632"
      },
      "outputs": [
        {
          "output_type": "execute_result",
          "data": {
            "text/plain": [
              "land_area           int64\n",
              "percent_city      float64\n",
              "percent_senior    float64\n",
              "physicians          int64\n",
              "hospital_beds       int64\n",
              "graduates         float64\n",
              "work_force        float64\n",
              "income              int64\n",
              "region              int64\n",
              "crime_rate        float64\n",
              "dtype: object"
            ]
          },
          "metadata": {},
          "execution_count": 2
        }
      ],
      "source": [
        "import pandas as pd\n",
        "sma_data = pd.read_csv(\"https://raw.githubusercontent.com/dphi-official/Datasets/master/Standard_Metropolitan_Areas_Data-data.csv\")\n",
        "sma_data.dtypes"
      ]
    },
    {
      "cell_type": "code",
      "source": [
        "sma_data.isnull().sum()"
      ],
      "metadata": {
        "colab": {
          "base_uri": "https://localhost:8080/"
        },
        "id": "DCVrYoyiqvtp",
        "outputId": "2b087ca1-ff84-40ba-b444-60493476d9c2"
      },
      "execution_count": 4,
      "outputs": [
        {
          "output_type": "execute_result",
          "data": {
            "text/plain": [
              "land_area         0\n",
              "percent_city      0\n",
              "percent_senior    0\n",
              "physicians        0\n",
              "hospital_beds     0\n",
              "graduates         0\n",
              "work_force        0\n",
              "income            0\n",
              "region            0\n",
              "crime_rate        0\n",
              "dtype: int64"
            ]
          },
          "metadata": {},
          "execution_count": 4
        }
      ]
    },
    {
      "cell_type": "code",
      "source": [
        "sma_data.hospital_beds.info()"
      ],
      "metadata": {
        "colab": {
          "base_uri": "https://localhost:8080/",
          "height": 286
        },
        "id": "HAT8zQJJq_au",
        "outputId": "e9c29f0f-0b1f-4590-b52a-aa0320b35333"
      },
      "execution_count": 6,
      "outputs": [
        {
          "output_type": "error",
          "ename": "AttributeError",
          "evalue": "ignored",
          "traceback": [
            "\u001b[0;31m---------------------------------------------------------------------------\u001b[0m",
            "\u001b[0;31mAttributeError\u001b[0m                            Traceback (most recent call last)",
            "\u001b[0;32m<ipython-input-6-f0dc8c2a5f4f>\u001b[0m in \u001b[0;36m<module>\u001b[0;34m()\u001b[0m\n\u001b[0;32m----> 1\u001b[0;31m \u001b[0msma_data\u001b[0m\u001b[0;34m.\u001b[0m\u001b[0mhospital_beds\u001b[0m\u001b[0;34m.\u001b[0m\u001b[0minfo\u001b[0m\u001b[0;34m(\u001b[0m\u001b[0;34m)\u001b[0m\u001b[0;34m\u001b[0m\u001b[0;34m\u001b[0m\u001b[0m\n\u001b[0m",
            "\u001b[0;32m/usr/local/lib/python3.7/dist-packages/pandas/core/generic.py\u001b[0m in \u001b[0;36m__getattr__\u001b[0;34m(self, name)\u001b[0m\n\u001b[1;32m   5485\u001b[0m         ):\n\u001b[1;32m   5486\u001b[0m             \u001b[0;32mreturn\u001b[0m \u001b[0mself\u001b[0m\u001b[0;34m[\u001b[0m\u001b[0mname\u001b[0m\u001b[0;34m]\u001b[0m\u001b[0;34m\u001b[0m\u001b[0;34m\u001b[0m\u001b[0m\n\u001b[0;32m-> 5487\u001b[0;31m         \u001b[0;32mreturn\u001b[0m \u001b[0mobject\u001b[0m\u001b[0;34m.\u001b[0m\u001b[0m__getattribute__\u001b[0m\u001b[0;34m(\u001b[0m\u001b[0mself\u001b[0m\u001b[0;34m,\u001b[0m \u001b[0mname\u001b[0m\u001b[0;34m)\u001b[0m\u001b[0;34m\u001b[0m\u001b[0;34m\u001b[0m\u001b[0m\n\u001b[0m\u001b[1;32m   5488\u001b[0m \u001b[0;34m\u001b[0m\u001b[0m\n\u001b[1;32m   5489\u001b[0m     \u001b[0;32mdef\u001b[0m \u001b[0m__setattr__\u001b[0m\u001b[0;34m(\u001b[0m\u001b[0mself\u001b[0m\u001b[0;34m,\u001b[0m \u001b[0mname\u001b[0m\u001b[0;34m:\u001b[0m \u001b[0mstr\u001b[0m\u001b[0;34m,\u001b[0m \u001b[0mvalue\u001b[0m\u001b[0;34m)\u001b[0m \u001b[0;34m->\u001b[0m \u001b[0;32mNone\u001b[0m\u001b[0;34m:\u001b[0m\u001b[0;34m\u001b[0m\u001b[0;34m\u001b[0m\u001b[0m\n",
            "\u001b[0;31mAttributeError\u001b[0m: 'Series' object has no attribute 'info'"
          ]
        }
      ]
    },
    {
      "cell_type": "code",
      "source": [
        "sma_data.head"
      ],
      "metadata": {
        "colab": {
          "base_uri": "https://localhost:8080/"
        },
        "id": "FU-xK3B8aM7u",
        "outputId": "eb369037-a431-4413-dd25-5b81da9a3159"
      },
      "execution_count": 2,
      "outputs": [
        {
          "output_type": "execute_result",
          "data": {
            "text/plain": [
              "<bound method NDFrame.head of     land_area  percent_city  percent_senior  physicians  hospital_beds  \\\n",
              "0        1384          78.1            12.3       25627          69678   \n",
              "1        3719          43.9             9.4       13326          43292   \n",
              "2        3553          37.4            10.7        9724          33731   \n",
              "3        3916          29.9             8.8        6402          24167   \n",
              "4        2480          31.5            10.5        8502          16751   \n",
              "..        ...           ...             ...         ...            ...   \n",
              "94       1511          38.7            10.7         348           1093   \n",
              "95       1543          39.6             8.1         159            481   \n",
              "96       1011          37.8            10.5         264            964   \n",
              "97        813          13.4            10.9         371           4355   \n",
              "98        654          28.8             3.9         140           1296   \n",
              "\n",
              "    graduates  work_force  income  region  crime_rate  \n",
              "0        50.1      4083.9   72100       1       75.55  \n",
              "1        53.9      3305.9   54542       2       56.03  \n",
              "2        50.6      2066.3   33216       1       41.32  \n",
              "3        52.2      1966.7   32906       2       67.38  \n",
              "4        66.1      1514.5   26573       4       80.19  \n",
              "..        ...         ...     ...     ...         ...  \n",
              "94       50.4       127.2    1452       4       70.66  \n",
              "95       30.3        80.6     769       3       36.36  \n",
              "96       70.7        93.2    1337       3       60.16  \n",
              "97       58.0        97.0    1589       1       36.33  \n",
              "98       55.1        66.9    1148       3       68.76  \n",
              "\n",
              "[99 rows x 10 columns]>"
            ]
          },
          "metadata": {},
          "execution_count": 2
        }
      ]
    },
    {
      "cell_type": "code",
      "source": [
        "sma_data.iloc[2,2]"
      ],
      "metadata": {
        "colab": {
          "base_uri": "https://localhost:8080/"
        },
        "id": "xnuoXophaUk3",
        "outputId": "268ae0a8-9cbc-40cb-dc37-b545cbf364db"
      },
      "execution_count": 3,
      "outputs": [
        {
          "output_type": "execute_result",
          "data": {
            "text/plain": [
              "10.7"
            ]
          },
          "metadata": {},
          "execution_count": 3
        }
      ]
    },
    {
      "cell_type": "code",
      "source": [
        "sma_data.physicians"
      ],
      "metadata": {
        "colab": {
          "base_uri": "https://localhost:8080/"
        },
        "id": "284Q7q-da2sO",
        "outputId": "3147c103-8ec2-4822-b730-cd1404cc6638"
      },
      "execution_count": 4,
      "outputs": [
        {
          "output_type": "execute_result",
          "data": {
            "text/plain": [
              "0     25627\n",
              "1     13326\n",
              "2      9724\n",
              "3      6402\n",
              "4      8502\n",
              "      ...  \n",
              "94      348\n",
              "95      159\n",
              "96      264\n",
              "97      371\n",
              "98      140\n",
              "Name: physicians, Length: 99, dtype: int64"
            ]
          },
          "metadata": {},
          "execution_count": 4
        }
      ]
    },
    {
      "cell_type": "code",
      "source": [
        "sma_data.iloc[:, 9]"
      ],
      "metadata": {
        "colab": {
          "base_uri": "https://localhost:8080/"
        },
        "id": "8JEdWRcYdIsK",
        "outputId": "dbd9f7d3-5f72-4613-c985-6f30c38a81fe"
      },
      "execution_count": 6,
      "outputs": [
        {
          "output_type": "execute_result",
          "data": {
            "text/plain": [
              "0     75.55\n",
              "1     56.03\n",
              "2     41.32\n",
              "3     67.38\n",
              "4     80.19\n",
              "      ...  \n",
              "94    70.66\n",
              "95    36.36\n",
              "96    60.16\n",
              "97    36.33\n",
              "98    68.76\n",
              "Name: crime_rate, Length: 99, dtype: float64"
            ]
          },
          "metadata": {},
          "execution_count": 6
        }
      ]
    },
    {
      "cell_type": "code",
      "source": [
        "sma_data.iloc[9,9]"
      ],
      "metadata": {
        "colab": {
          "base_uri": "https://localhost:8080/"
        },
        "id": "_7DN7Bn8dhWI",
        "outputId": "6d597ef2-8963-4fd4-c9d1-b1710c5c1f64"
      },
      "execution_count": 11,
      "outputs": [
        {
          "output_type": "execute_result",
          "data": {
            "text/plain": [
              "55.3"
            ]
          },
          "metadata": {},
          "execution_count": 11
        }
      ]
    },
    {
      "cell_type": "code",
      "source": [
        "sma_data.physicians"
      ],
      "metadata": {
        "colab": {
          "base_uri": "https://localhost:8080/"
        },
        "id": "0ZOc-OLaeW-3",
        "outputId": "9ab15dbf-6df3-4f80-b121-228ef767a1ae"
      },
      "execution_count": 12,
      "outputs": [
        {
          "output_type": "execute_result",
          "data": {
            "text/plain": [
              "0     25627\n",
              "1     13326\n",
              "2      9724\n",
              "3      6402\n",
              "4      8502\n",
              "      ...  \n",
              "94      348\n",
              "95      159\n",
              "96      264\n",
              "97      371\n",
              "98      140\n",
              "Name: physicians, Length: 99, dtype: int64"
            ]
          },
          "metadata": {},
          "execution_count": 12
        }
      ]
    },
    {
      "cell_type": "code",
      "source": [
        "sma_data.loc[98, 'physicians']"
      ],
      "metadata": {
        "colab": {
          "base_uri": "https://localhost:8080/"
        },
        "id": "wAsr4gw5edeC",
        "outputId": "be40c2e8-25fa-4c17-8fa5-3a9a5b60a08c"
      },
      "execution_count": 19,
      "outputs": [
        {
          "output_type": "execute_result",
          "data": {
            "text/plain": [
              "140"
            ]
          },
          "metadata": {},
          "execution_count": 19
        }
      ]
    },
    {
      "cell_type": "code",
      "source": [
        "reg4 = sma_data[sma_data.region == 4]"
      ],
      "metadata": {
        "id": "o7O_43EkgGeu"
      },
      "execution_count": 7,
      "outputs": []
    },
    {
      "cell_type": "code",
      "source": [
        "reg4"
      ],
      "metadata": {
        "colab": {
          "base_uri": "https://localhost:8080/",
          "height": 582
        },
        "id": "2lZnhuFfu5VQ",
        "outputId": "245fda38-a87f-40de-b2b8-bd111d8364fc"
      },
      "execution_count": 8,
      "outputs": [
        {
          "output_type": "execute_result",
          "data": {
            "text/plain": [
              "    land_area  percent_city  percent_senior  physicians  hospital_beds  \\\n",
              "4        2480          31.5            10.5        8502          16751   \n",
              "13        782          28.4             7.8        3119           8656   \n",
              "14       4226          38.1             9.8        3285           5392   \n",
              "18      27293          25.3            12.3        2018           6323   \n",
              "20       9155          53.8            11.1        2280           6450   \n",
              "25       3434          28.9             8.3        1844           3215   \n",
              "33        596         100.0             6.0        1260           2819   \n",
              "53       5966          39.5             9.6         737           1907   \n",
              "54       1863          50.4             7.7         674           2989   \n",
              "59       1676          36.6             9.2         505           3297   \n",
              "67       8152          22.3             9.1         405           1254   \n",
              "73       1758          56.8            11.5         565           2081   \n",
              "74       1412          39.2            11.3         436           1837   \n",
              "81       2710          63.7             6.2         357           1277   \n",
              "84       2737          45.0            10.5         602           1462   \n",
              "93       4552          54.4             9.1         329            719   \n",
              "94       1511          38.7            10.7         348           1093   \n",
              "\n",
              "    graduates  work_force  income  region  crime_rate  \n",
              "4        66.1      1514.5   26573       4       80.19  \n",
              "13       70.5       915.2   12591       4       63.20  \n",
              "14       67.8       699.8   10918       4       64.05  \n",
              "18       57.4       510.6    7399       4       76.03  \n",
              "20       60.1       575.2    7766       4       85.62  \n",
              "25       65.1       422.6    5909       4       77.94  \n",
              "33       66.0       319.9    5181       4       64.98  \n",
              "53       52.7       246.6    3007       4       80.94  \n",
              "54       63.8       194.8    2747       4       53.76  \n",
              "59       60.7       156.3    2689       4       57.37  \n",
              "67       51.7       165.6    2257       4       78.10  \n",
              "73       65.3       131.2    1939       4       56.06  \n",
              "74       49.4       154.2    2098       4       82.68  \n",
              "81       72.8       110.9    1639       4       63.10  \n",
              "84       71.3       131.4    1980       4       63.44  \n",
              "93       61.9       118.0    1386       4       62.63  \n",
              "94       50.4       127.2    1452       4       70.66  "
            ],
            "text/html": [
              "\n",
              "  <div id=\"df-14cf8e87-14e0-43e7-9f77-df4e84c4732a\">\n",
              "    <div class=\"colab-df-container\">\n",
              "      <div>\n",
              "<style scoped>\n",
              "    .dataframe tbody tr th:only-of-type {\n",
              "        vertical-align: middle;\n",
              "    }\n",
              "\n",
              "    .dataframe tbody tr th {\n",
              "        vertical-align: top;\n",
              "    }\n",
              "\n",
              "    .dataframe thead th {\n",
              "        text-align: right;\n",
              "    }\n",
              "</style>\n",
              "<table border=\"1\" class=\"dataframe\">\n",
              "  <thead>\n",
              "    <tr style=\"text-align: right;\">\n",
              "      <th></th>\n",
              "      <th>land_area</th>\n",
              "      <th>percent_city</th>\n",
              "      <th>percent_senior</th>\n",
              "      <th>physicians</th>\n",
              "      <th>hospital_beds</th>\n",
              "      <th>graduates</th>\n",
              "      <th>work_force</th>\n",
              "      <th>income</th>\n",
              "      <th>region</th>\n",
              "      <th>crime_rate</th>\n",
              "    </tr>\n",
              "  </thead>\n",
              "  <tbody>\n",
              "    <tr>\n",
              "      <th>4</th>\n",
              "      <td>2480</td>\n",
              "      <td>31.5</td>\n",
              "      <td>10.5</td>\n",
              "      <td>8502</td>\n",
              "      <td>16751</td>\n",
              "      <td>66.1</td>\n",
              "      <td>1514.5</td>\n",
              "      <td>26573</td>\n",
              "      <td>4</td>\n",
              "      <td>80.19</td>\n",
              "    </tr>\n",
              "    <tr>\n",
              "      <th>13</th>\n",
              "      <td>782</td>\n",
              "      <td>28.4</td>\n",
              "      <td>7.8</td>\n",
              "      <td>3119</td>\n",
              "      <td>8656</td>\n",
              "      <td>70.5</td>\n",
              "      <td>915.2</td>\n",
              "      <td>12591</td>\n",
              "      <td>4</td>\n",
              "      <td>63.20</td>\n",
              "    </tr>\n",
              "    <tr>\n",
              "      <th>14</th>\n",
              "      <td>4226</td>\n",
              "      <td>38.1</td>\n",
              "      <td>9.8</td>\n",
              "      <td>3285</td>\n",
              "      <td>5392</td>\n",
              "      <td>67.8</td>\n",
              "      <td>699.8</td>\n",
              "      <td>10918</td>\n",
              "      <td>4</td>\n",
              "      <td>64.05</td>\n",
              "    </tr>\n",
              "    <tr>\n",
              "      <th>18</th>\n",
              "      <td>27293</td>\n",
              "      <td>25.3</td>\n",
              "      <td>12.3</td>\n",
              "      <td>2018</td>\n",
              "      <td>6323</td>\n",
              "      <td>57.4</td>\n",
              "      <td>510.6</td>\n",
              "      <td>7399</td>\n",
              "      <td>4</td>\n",
              "      <td>76.03</td>\n",
              "    </tr>\n",
              "    <tr>\n",
              "      <th>20</th>\n",
              "      <td>9155</td>\n",
              "      <td>53.8</td>\n",
              "      <td>11.1</td>\n",
              "      <td>2280</td>\n",
              "      <td>6450</td>\n",
              "      <td>60.1</td>\n",
              "      <td>575.2</td>\n",
              "      <td>7766</td>\n",
              "      <td>4</td>\n",
              "      <td>85.62</td>\n",
              "    </tr>\n",
              "    <tr>\n",
              "      <th>25</th>\n",
              "      <td>3434</td>\n",
              "      <td>28.9</td>\n",
              "      <td>8.3</td>\n",
              "      <td>1844</td>\n",
              "      <td>3215</td>\n",
              "      <td>65.1</td>\n",
              "      <td>422.6</td>\n",
              "      <td>5909</td>\n",
              "      <td>4</td>\n",
              "      <td>77.94</td>\n",
              "    </tr>\n",
              "    <tr>\n",
              "      <th>33</th>\n",
              "      <td>596</td>\n",
              "      <td>100.0</td>\n",
              "      <td>6.0</td>\n",
              "      <td>1260</td>\n",
              "      <td>2819</td>\n",
              "      <td>66.0</td>\n",
              "      <td>319.9</td>\n",
              "      <td>5181</td>\n",
              "      <td>4</td>\n",
              "      <td>64.98</td>\n",
              "    </tr>\n",
              "    <tr>\n",
              "      <th>53</th>\n",
              "      <td>5966</td>\n",
              "      <td>39.5</td>\n",
              "      <td>9.6</td>\n",
              "      <td>737</td>\n",
              "      <td>1907</td>\n",
              "      <td>52.7</td>\n",
              "      <td>246.6</td>\n",
              "      <td>3007</td>\n",
              "      <td>4</td>\n",
              "      <td>80.94</td>\n",
              "    </tr>\n",
              "    <tr>\n",
              "      <th>54</th>\n",
              "      <td>1863</td>\n",
              "      <td>50.4</td>\n",
              "      <td>7.7</td>\n",
              "      <td>674</td>\n",
              "      <td>2989</td>\n",
              "      <td>63.8</td>\n",
              "      <td>194.8</td>\n",
              "      <td>2747</td>\n",
              "      <td>4</td>\n",
              "      <td>53.76</td>\n",
              "    </tr>\n",
              "    <tr>\n",
              "      <th>59</th>\n",
              "      <td>1676</td>\n",
              "      <td>36.6</td>\n",
              "      <td>9.2</td>\n",
              "      <td>505</td>\n",
              "      <td>3297</td>\n",
              "      <td>60.7</td>\n",
              "      <td>156.3</td>\n",
              "      <td>2689</td>\n",
              "      <td>4</td>\n",
              "      <td>57.37</td>\n",
              "    </tr>\n",
              "    <tr>\n",
              "      <th>67</th>\n",
              "      <td>8152</td>\n",
              "      <td>22.3</td>\n",
              "      <td>9.1</td>\n",
              "      <td>405</td>\n",
              "      <td>1254</td>\n",
              "      <td>51.7</td>\n",
              "      <td>165.6</td>\n",
              "      <td>2257</td>\n",
              "      <td>4</td>\n",
              "      <td>78.10</td>\n",
              "    </tr>\n",
              "    <tr>\n",
              "      <th>73</th>\n",
              "      <td>1758</td>\n",
              "      <td>56.8</td>\n",
              "      <td>11.5</td>\n",
              "      <td>565</td>\n",
              "      <td>2081</td>\n",
              "      <td>65.3</td>\n",
              "      <td>131.2</td>\n",
              "      <td>1939</td>\n",
              "      <td>4</td>\n",
              "      <td>56.06</td>\n",
              "    </tr>\n",
              "    <tr>\n",
              "      <th>74</th>\n",
              "      <td>1412</td>\n",
              "      <td>39.2</td>\n",
              "      <td>11.3</td>\n",
              "      <td>436</td>\n",
              "      <td>1837</td>\n",
              "      <td>49.4</td>\n",
              "      <td>154.2</td>\n",
              "      <td>2098</td>\n",
              "      <td>4</td>\n",
              "      <td>82.68</td>\n",
              "    </tr>\n",
              "    <tr>\n",
              "      <th>81</th>\n",
              "      <td>2710</td>\n",
              "      <td>63.7</td>\n",
              "      <td>6.2</td>\n",
              "      <td>357</td>\n",
              "      <td>1277</td>\n",
              "      <td>72.8</td>\n",
              "      <td>110.9</td>\n",
              "      <td>1639</td>\n",
              "      <td>4</td>\n",
              "      <td>63.10</td>\n",
              "    </tr>\n",
              "    <tr>\n",
              "      <th>84</th>\n",
              "      <td>2737</td>\n",
              "      <td>45.0</td>\n",
              "      <td>10.5</td>\n",
              "      <td>602</td>\n",
              "      <td>1462</td>\n",
              "      <td>71.3</td>\n",
              "      <td>131.4</td>\n",
              "      <td>1980</td>\n",
              "      <td>4</td>\n",
              "      <td>63.44</td>\n",
              "    </tr>\n",
              "    <tr>\n",
              "      <th>93</th>\n",
              "      <td>4552</td>\n",
              "      <td>54.4</td>\n",
              "      <td>9.1</td>\n",
              "      <td>329</td>\n",
              "      <td>719</td>\n",
              "      <td>61.9</td>\n",
              "      <td>118.0</td>\n",
              "      <td>1386</td>\n",
              "      <td>4</td>\n",
              "      <td>62.63</td>\n",
              "    </tr>\n",
              "    <tr>\n",
              "      <th>94</th>\n",
              "      <td>1511</td>\n",
              "      <td>38.7</td>\n",
              "      <td>10.7</td>\n",
              "      <td>348</td>\n",
              "      <td>1093</td>\n",
              "      <td>50.4</td>\n",
              "      <td>127.2</td>\n",
              "      <td>1452</td>\n",
              "      <td>4</td>\n",
              "      <td>70.66</td>\n",
              "    </tr>\n",
              "  </tbody>\n",
              "</table>\n",
              "</div>\n",
              "      <button class=\"colab-df-convert\" onclick=\"convertToInteractive('df-14cf8e87-14e0-43e7-9f77-df4e84c4732a')\"\n",
              "              title=\"Convert this dataframe to an interactive table.\"\n",
              "              style=\"display:none;\">\n",
              "        \n",
              "  <svg xmlns=\"http://www.w3.org/2000/svg\" height=\"24px\"viewBox=\"0 0 24 24\"\n",
              "       width=\"24px\">\n",
              "    <path d=\"M0 0h24v24H0V0z\" fill=\"none\"/>\n",
              "    <path d=\"M18.56 5.44l.94 2.06.94-2.06 2.06-.94-2.06-.94-.94-2.06-.94 2.06-2.06.94zm-11 1L8.5 8.5l.94-2.06 2.06-.94-2.06-.94L8.5 2.5l-.94 2.06-2.06.94zm10 10l.94 2.06.94-2.06 2.06-.94-2.06-.94-.94-2.06-.94 2.06-2.06.94z\"/><path d=\"M17.41 7.96l-1.37-1.37c-.4-.4-.92-.59-1.43-.59-.52 0-1.04.2-1.43.59L10.3 9.45l-7.72 7.72c-.78.78-.78 2.05 0 2.83L4 21.41c.39.39.9.59 1.41.59.51 0 1.02-.2 1.41-.59l7.78-7.78 2.81-2.81c.8-.78.8-2.07 0-2.86zM5.41 20L4 18.59l7.72-7.72 1.47 1.35L5.41 20z\"/>\n",
              "  </svg>\n",
              "      </button>\n",
              "      \n",
              "  <style>\n",
              "    .colab-df-container {\n",
              "      display:flex;\n",
              "      flex-wrap:wrap;\n",
              "      gap: 12px;\n",
              "    }\n",
              "\n",
              "    .colab-df-convert {\n",
              "      background-color: #E8F0FE;\n",
              "      border: none;\n",
              "      border-radius: 50%;\n",
              "      cursor: pointer;\n",
              "      display: none;\n",
              "      fill: #1967D2;\n",
              "      height: 32px;\n",
              "      padding: 0 0 0 0;\n",
              "      width: 32px;\n",
              "    }\n",
              "\n",
              "    .colab-df-convert:hover {\n",
              "      background-color: #E2EBFA;\n",
              "      box-shadow: 0px 1px 2px rgba(60, 64, 67, 0.3), 0px 1px 3px 1px rgba(60, 64, 67, 0.15);\n",
              "      fill: #174EA6;\n",
              "    }\n",
              "\n",
              "    [theme=dark] .colab-df-convert {\n",
              "      background-color: #3B4455;\n",
              "      fill: #D2E3FC;\n",
              "    }\n",
              "\n",
              "    [theme=dark] .colab-df-convert:hover {\n",
              "      background-color: #434B5C;\n",
              "      box-shadow: 0px 1px 3px 1px rgba(0, 0, 0, 0.15);\n",
              "      filter: drop-shadow(0px 1px 2px rgba(0, 0, 0, 0.3));\n",
              "      fill: #FFFFFF;\n",
              "    }\n",
              "  </style>\n",
              "\n",
              "      <script>\n",
              "        const buttonEl =\n",
              "          document.querySelector('#df-14cf8e87-14e0-43e7-9f77-df4e84c4732a button.colab-df-convert');\n",
              "        buttonEl.style.display =\n",
              "          google.colab.kernel.accessAllowed ? 'block' : 'none';\n",
              "\n",
              "        async function convertToInteractive(key) {\n",
              "          const element = document.querySelector('#df-14cf8e87-14e0-43e7-9f77-df4e84c4732a');\n",
              "          const dataTable =\n",
              "            await google.colab.kernel.invokeFunction('convertToInteractive',\n",
              "                                                     [key], {});\n",
              "          if (!dataTable) return;\n",
              "\n",
              "          const docLinkHtml = 'Like what you see? Visit the ' +\n",
              "            '<a target=\"_blank\" href=https://colab.research.google.com/notebooks/data_table.ipynb>data table notebook</a>'\n",
              "            + ' to learn more about interactive tables.';\n",
              "          element.innerHTML = '';\n",
              "          dataTable['output_type'] = 'display_data';\n",
              "          await google.colab.output.renderOutput(dataTable, element);\n",
              "          const docLink = document.createElement('div');\n",
              "          docLink.innerHTML = docLinkHtml;\n",
              "          element.appendChild(docLink);\n",
              "        }\n",
              "      </script>\n",
              "    </div>\n",
              "  </div>\n",
              "  "
            ]
          },
          "metadata": {},
          "execution_count": 8
        }
      ]
    },
    {
      "cell_type": "code",
      "source": [
        "sample_data1"
      ],
      "metadata": {
        "colab": {
          "base_uri": "https://localhost:8080/",
          "height": 206
        },
        "id": "pyxVPUaKgvd2",
        "outputId": "d229a722-2516-4e10-ed27-8f545c399d08"
      },
      "execution_count": 8,
      "outputs": [
        {
          "output_type": "execute_result",
          "data": {
            "text/plain": [
              "   land_area  region\n",
              "1       3719       2\n",
              "2       3553       1\n",
              "3       3916       2\n",
              "4       2480       4\n",
              "5       2815       3"
            ],
            "text/html": [
              "\n",
              "  <div id=\"df-e013f99c-01e7-4263-b04a-f26218b7d62d\">\n",
              "    <div class=\"colab-df-container\">\n",
              "      <div>\n",
              "<style scoped>\n",
              "    .dataframe tbody tr th:only-of-type {\n",
              "        vertical-align: middle;\n",
              "    }\n",
              "\n",
              "    .dataframe tbody tr th {\n",
              "        vertical-align: top;\n",
              "    }\n",
              "\n",
              "    .dataframe thead th {\n",
              "        text-align: right;\n",
              "    }\n",
              "</style>\n",
              "<table border=\"1\" class=\"dataframe\">\n",
              "  <thead>\n",
              "    <tr style=\"text-align: right;\">\n",
              "      <th></th>\n",
              "      <th>land_area</th>\n",
              "      <th>region</th>\n",
              "    </tr>\n",
              "  </thead>\n",
              "  <tbody>\n",
              "    <tr>\n",
              "      <th>1</th>\n",
              "      <td>3719</td>\n",
              "      <td>2</td>\n",
              "    </tr>\n",
              "    <tr>\n",
              "      <th>2</th>\n",
              "      <td>3553</td>\n",
              "      <td>1</td>\n",
              "    </tr>\n",
              "    <tr>\n",
              "      <th>3</th>\n",
              "      <td>3916</td>\n",
              "      <td>2</td>\n",
              "    </tr>\n",
              "    <tr>\n",
              "      <th>4</th>\n",
              "      <td>2480</td>\n",
              "      <td>4</td>\n",
              "    </tr>\n",
              "    <tr>\n",
              "      <th>5</th>\n",
              "      <td>2815</td>\n",
              "      <td>3</td>\n",
              "    </tr>\n",
              "  </tbody>\n",
              "</table>\n",
              "</div>\n",
              "      <button class=\"colab-df-convert\" onclick=\"convertToInteractive('df-e013f99c-01e7-4263-b04a-f26218b7d62d')\"\n",
              "              title=\"Convert this dataframe to an interactive table.\"\n",
              "              style=\"display:none;\">\n",
              "        \n",
              "  <svg xmlns=\"http://www.w3.org/2000/svg\" height=\"24px\"viewBox=\"0 0 24 24\"\n",
              "       width=\"24px\">\n",
              "    <path d=\"M0 0h24v24H0V0z\" fill=\"none\"/>\n",
              "    <path d=\"M18.56 5.44l.94 2.06.94-2.06 2.06-.94-2.06-.94-.94-2.06-.94 2.06-2.06.94zm-11 1L8.5 8.5l.94-2.06 2.06-.94-2.06-.94L8.5 2.5l-.94 2.06-2.06.94zm10 10l.94 2.06.94-2.06 2.06-.94-2.06-.94-.94-2.06-.94 2.06-2.06.94z\"/><path d=\"M17.41 7.96l-1.37-1.37c-.4-.4-.92-.59-1.43-.59-.52 0-1.04.2-1.43.59L10.3 9.45l-7.72 7.72c-.78.78-.78 2.05 0 2.83L4 21.41c.39.39.9.59 1.41.59.51 0 1.02-.2 1.41-.59l7.78-7.78 2.81-2.81c.8-.78.8-2.07 0-2.86zM5.41 20L4 18.59l7.72-7.72 1.47 1.35L5.41 20z\"/>\n",
              "  </svg>\n",
              "      </button>\n",
              "      \n",
              "  <style>\n",
              "    .colab-df-container {\n",
              "      display:flex;\n",
              "      flex-wrap:wrap;\n",
              "      gap: 12px;\n",
              "    }\n",
              "\n",
              "    .colab-df-convert {\n",
              "      background-color: #E8F0FE;\n",
              "      border: none;\n",
              "      border-radius: 50%;\n",
              "      cursor: pointer;\n",
              "      display: none;\n",
              "      fill: #1967D2;\n",
              "      height: 32px;\n",
              "      padding: 0 0 0 0;\n",
              "      width: 32px;\n",
              "    }\n",
              "\n",
              "    .colab-df-convert:hover {\n",
              "      background-color: #E2EBFA;\n",
              "      box-shadow: 0px 1px 2px rgba(60, 64, 67, 0.3), 0px 1px 3px 1px rgba(60, 64, 67, 0.15);\n",
              "      fill: #174EA6;\n",
              "    }\n",
              "\n",
              "    [theme=dark] .colab-df-convert {\n",
              "      background-color: #3B4455;\n",
              "      fill: #D2E3FC;\n",
              "    }\n",
              "\n",
              "    [theme=dark] .colab-df-convert:hover {\n",
              "      background-color: #434B5C;\n",
              "      box-shadow: 0px 1px 3px 1px rgba(0, 0, 0, 0.15);\n",
              "      filter: drop-shadow(0px 1px 2px rgba(0, 0, 0, 0.3));\n",
              "      fill: #FFFFFF;\n",
              "    }\n",
              "  </style>\n",
              "\n",
              "      <script>\n",
              "        const buttonEl =\n",
              "          document.querySelector('#df-e013f99c-01e7-4263-b04a-f26218b7d62d button.colab-df-convert');\n",
              "        buttonEl.style.display =\n",
              "          google.colab.kernel.accessAllowed ? 'block' : 'none';\n",
              "\n",
              "        async function convertToInteractive(key) {\n",
              "          const element = document.querySelector('#df-e013f99c-01e7-4263-b04a-f26218b7d62d');\n",
              "          const dataTable =\n",
              "            await google.colab.kernel.invokeFunction('convertToInteractive',\n",
              "                                                     [key], {});\n",
              "          if (!dataTable) return;\n",
              "\n",
              "          const docLinkHtml = 'Like what you see? Visit the ' +\n",
              "            '<a target=\"_blank\" href=https://colab.research.google.com/notebooks/data_table.ipynb>data table notebook</a>'\n",
              "            + ' to learn more about interactive tables.';\n",
              "          element.innerHTML = '';\n",
              "          dataTable['output_type'] = 'display_data';\n",
              "          await google.colab.output.renderOutput(dataTable, element);\n",
              "          const docLink = document.createElement('div');\n",
              "          docLink.innerHTML = docLinkHtml;\n",
              "          element.appendChild(docLink);\n",
              "        }\n",
              "      </script>\n",
              "    </div>\n",
              "  </div>\n",
              "  "
            ]
          },
          "metadata": {},
          "execution_count": 8
        }
      ]
    },
    {
      "cell_type": "code",
      "source": [
        "sample_data2 = sma_data[sma_data.region == 2]"
      ],
      "metadata": {
        "id": "GAEYxANZhOqE"
      },
      "execution_count": 24,
      "outputs": []
    },
    {
      "cell_type": "code",
      "source": [
        "sample_data2.shape"
      ],
      "metadata": {
        "colab": {
          "base_uri": "https://localhost:8080/"
        },
        "id": "nzsqJcYJhsET",
        "outputId": "0117a720-2d61-4439-a07b-8fa87968a7b8"
      },
      "execution_count": 25,
      "outputs": [
        {
          "output_type": "execute_result",
          "data": {
            "text/plain": [
              "(25, 10)"
            ]
          },
          "metadata": {},
          "execution_count": 25
        }
      ]
    },
    {
      "cell_type": "code",
      "source": [
        "sma_data.mean()"
      ],
      "metadata": {
        "colab": {
          "base_uri": "https://localhost:8080/"
        },
        "id": "PDzmj-gKmvXM",
        "outputId": "c37e0b13-2ce2-4899-925f-0cab79d85ea3"
      },
      "execution_count": 26,
      "outputs": [
        {
          "output_type": "execute_result",
          "data": {
            "text/plain": [
              "land_area         2615.727273\n",
              "percent_city        42.518182\n",
              "percent_senior       9.781818\n",
              "physicians        1828.333333\n",
              "hospital_beds     6345.868687\n",
              "graduates           54.463636\n",
              "work_force         449.366667\n",
              "income            6762.505051\n",
              "region               2.494949\n",
              "crime_rate          55.643030\n",
              "dtype: float64"
            ]
          },
          "metadata": {},
          "execution_count": 26
        }
      ]
    },
    {
      "cell_type": "code",
      "source": [
        "sma_data.region.value_counts()"
      ],
      "metadata": {
        "colab": {
          "base_uri": "https://localhost:8080/"
        },
        "id": "Eja3PkUSnGWv",
        "outputId": "ed21c7ff-d4f6-4e9a-8629-887c7c96d3ac"
      },
      "execution_count": 27,
      "outputs": [
        {
          "output_type": "execute_result",
          "data": {
            "text/plain": [
              "3    36\n",
              "2    25\n",
              "1    21\n",
              "4    17\n",
              "Name: region, dtype: int64"
            ]
          },
          "metadata": {},
          "execution_count": 27
        }
      ]
    },
    {
      "cell_type": "code",
      "source": [
        "sma_data.describe()"
      ],
      "metadata": {
        "colab": {
          "base_uri": "https://localhost:8080/",
          "height": 300
        },
        "id": "LQ8oUCGHnUCu",
        "outputId": "a09e7453-e56d-4140-89cb-0de740974cc3"
      },
      "execution_count": 28,
      "outputs": [
        {
          "output_type": "execute_result",
          "data": {
            "text/plain": [
              "          land_area  percent_city  percent_senior    physicians  \\\n",
              "count     99.000000     99.000000       99.000000     99.000000   \n",
              "mean    2615.727273     42.518182        9.781818   1828.333333   \n",
              "std     3045.826210     17.348277        2.524547   3192.199763   \n",
              "min       47.000000     13.400000        3.900000    140.000000   \n",
              "25%     1408.000000     30.100000        8.350000    459.000000   \n",
              "50%     1951.000000     39.500000        9.700000    774.000000   \n",
              "75%     2890.500000     52.600000       10.750000   1911.500000   \n",
              "max    27293.000000    100.000000       21.800000  25627.000000   \n",
              "\n",
              "       hospital_beds  graduates   work_force        income     region  \\\n",
              "count      99.000000  99.000000    99.000000     99.000000  99.000000   \n",
              "mean     6345.868687  54.463636   449.366667   6762.505051   2.494949   \n",
              "std      9136.202716   7.773286   610.990885  10393.349660   1.013921   \n",
              "min       481.000000  30.300000    66.900000    769.000000   1.000000   \n",
              "25%      2390.000000  50.250000   150.300000   2003.000000   2.000000   \n",
              "50%      3472.000000  54.000000   257.200000   3510.000000   3.000000   \n",
              "75%      6386.500000  58.300000   436.500000   6283.500000   3.000000   \n",
              "max     69678.000000  72.800000  4083.900000  72100.000000   4.000000   \n",
              "\n",
              "       crime_rate  \n",
              "count   99.000000  \n",
              "mean    55.643030  \n",
              "std     13.470943  \n",
              "min     23.320000  \n",
              "25%     46.115000  \n",
              "50%     56.060000  \n",
              "75%     63.860000  \n",
              "max     85.620000  "
            ],
            "text/html": [
              "\n",
              "  <div id=\"df-465150de-08a1-4a93-92af-a45bb7371806\">\n",
              "    <div class=\"colab-df-container\">\n",
              "      <div>\n",
              "<style scoped>\n",
              "    .dataframe tbody tr th:only-of-type {\n",
              "        vertical-align: middle;\n",
              "    }\n",
              "\n",
              "    .dataframe tbody tr th {\n",
              "        vertical-align: top;\n",
              "    }\n",
              "\n",
              "    .dataframe thead th {\n",
              "        text-align: right;\n",
              "    }\n",
              "</style>\n",
              "<table border=\"1\" class=\"dataframe\">\n",
              "  <thead>\n",
              "    <tr style=\"text-align: right;\">\n",
              "      <th></th>\n",
              "      <th>land_area</th>\n",
              "      <th>percent_city</th>\n",
              "      <th>percent_senior</th>\n",
              "      <th>physicians</th>\n",
              "      <th>hospital_beds</th>\n",
              "      <th>graduates</th>\n",
              "      <th>work_force</th>\n",
              "      <th>income</th>\n",
              "      <th>region</th>\n",
              "      <th>crime_rate</th>\n",
              "    </tr>\n",
              "  </thead>\n",
              "  <tbody>\n",
              "    <tr>\n",
              "      <th>count</th>\n",
              "      <td>99.000000</td>\n",
              "      <td>99.000000</td>\n",
              "      <td>99.000000</td>\n",
              "      <td>99.000000</td>\n",
              "      <td>99.000000</td>\n",
              "      <td>99.000000</td>\n",
              "      <td>99.000000</td>\n",
              "      <td>99.000000</td>\n",
              "      <td>99.000000</td>\n",
              "      <td>99.000000</td>\n",
              "    </tr>\n",
              "    <tr>\n",
              "      <th>mean</th>\n",
              "      <td>2615.727273</td>\n",
              "      <td>42.518182</td>\n",
              "      <td>9.781818</td>\n",
              "      <td>1828.333333</td>\n",
              "      <td>6345.868687</td>\n",
              "      <td>54.463636</td>\n",
              "      <td>449.366667</td>\n",
              "      <td>6762.505051</td>\n",
              "      <td>2.494949</td>\n",
              "      <td>55.643030</td>\n",
              "    </tr>\n",
              "    <tr>\n",
              "      <th>std</th>\n",
              "      <td>3045.826210</td>\n",
              "      <td>17.348277</td>\n",
              "      <td>2.524547</td>\n",
              "      <td>3192.199763</td>\n",
              "      <td>9136.202716</td>\n",
              "      <td>7.773286</td>\n",
              "      <td>610.990885</td>\n",
              "      <td>10393.349660</td>\n",
              "      <td>1.013921</td>\n",
              "      <td>13.470943</td>\n",
              "    </tr>\n",
              "    <tr>\n",
              "      <th>min</th>\n",
              "      <td>47.000000</td>\n",
              "      <td>13.400000</td>\n",
              "      <td>3.900000</td>\n",
              "      <td>140.000000</td>\n",
              "      <td>481.000000</td>\n",
              "      <td>30.300000</td>\n",
              "      <td>66.900000</td>\n",
              "      <td>769.000000</td>\n",
              "      <td>1.000000</td>\n",
              "      <td>23.320000</td>\n",
              "    </tr>\n",
              "    <tr>\n",
              "      <th>25%</th>\n",
              "      <td>1408.000000</td>\n",
              "      <td>30.100000</td>\n",
              "      <td>8.350000</td>\n",
              "      <td>459.000000</td>\n",
              "      <td>2390.000000</td>\n",
              "      <td>50.250000</td>\n",
              "      <td>150.300000</td>\n",
              "      <td>2003.000000</td>\n",
              "      <td>2.000000</td>\n",
              "      <td>46.115000</td>\n",
              "    </tr>\n",
              "    <tr>\n",
              "      <th>50%</th>\n",
              "      <td>1951.000000</td>\n",
              "      <td>39.500000</td>\n",
              "      <td>9.700000</td>\n",
              "      <td>774.000000</td>\n",
              "      <td>3472.000000</td>\n",
              "      <td>54.000000</td>\n",
              "      <td>257.200000</td>\n",
              "      <td>3510.000000</td>\n",
              "      <td>3.000000</td>\n",
              "      <td>56.060000</td>\n",
              "    </tr>\n",
              "    <tr>\n",
              "      <th>75%</th>\n",
              "      <td>2890.500000</td>\n",
              "      <td>52.600000</td>\n",
              "      <td>10.750000</td>\n",
              "      <td>1911.500000</td>\n",
              "      <td>6386.500000</td>\n",
              "      <td>58.300000</td>\n",
              "      <td>436.500000</td>\n",
              "      <td>6283.500000</td>\n",
              "      <td>3.000000</td>\n",
              "      <td>63.860000</td>\n",
              "    </tr>\n",
              "    <tr>\n",
              "      <th>max</th>\n",
              "      <td>27293.000000</td>\n",
              "      <td>100.000000</td>\n",
              "      <td>21.800000</td>\n",
              "      <td>25627.000000</td>\n",
              "      <td>69678.000000</td>\n",
              "      <td>72.800000</td>\n",
              "      <td>4083.900000</td>\n",
              "      <td>72100.000000</td>\n",
              "      <td>4.000000</td>\n",
              "      <td>85.620000</td>\n",
              "    </tr>\n",
              "  </tbody>\n",
              "</table>\n",
              "</div>\n",
              "      <button class=\"colab-df-convert\" onclick=\"convertToInteractive('df-465150de-08a1-4a93-92af-a45bb7371806')\"\n",
              "              title=\"Convert this dataframe to an interactive table.\"\n",
              "              style=\"display:none;\">\n",
              "        \n",
              "  <svg xmlns=\"http://www.w3.org/2000/svg\" height=\"24px\"viewBox=\"0 0 24 24\"\n",
              "       width=\"24px\">\n",
              "    <path d=\"M0 0h24v24H0V0z\" fill=\"none\"/>\n",
              "    <path d=\"M18.56 5.44l.94 2.06.94-2.06 2.06-.94-2.06-.94-.94-2.06-.94 2.06-2.06.94zm-11 1L8.5 8.5l.94-2.06 2.06-.94-2.06-.94L8.5 2.5l-.94 2.06-2.06.94zm10 10l.94 2.06.94-2.06 2.06-.94-2.06-.94-.94-2.06-.94 2.06-2.06.94z\"/><path d=\"M17.41 7.96l-1.37-1.37c-.4-.4-.92-.59-1.43-.59-.52 0-1.04.2-1.43.59L10.3 9.45l-7.72 7.72c-.78.78-.78 2.05 0 2.83L4 21.41c.39.39.9.59 1.41.59.51 0 1.02-.2 1.41-.59l7.78-7.78 2.81-2.81c.8-.78.8-2.07 0-2.86zM5.41 20L4 18.59l7.72-7.72 1.47 1.35L5.41 20z\"/>\n",
              "  </svg>\n",
              "      </button>\n",
              "      \n",
              "  <style>\n",
              "    .colab-df-container {\n",
              "      display:flex;\n",
              "      flex-wrap:wrap;\n",
              "      gap: 12px;\n",
              "    }\n",
              "\n",
              "    .colab-df-convert {\n",
              "      background-color: #E8F0FE;\n",
              "      border: none;\n",
              "      border-radius: 50%;\n",
              "      cursor: pointer;\n",
              "      display: none;\n",
              "      fill: #1967D2;\n",
              "      height: 32px;\n",
              "      padding: 0 0 0 0;\n",
              "      width: 32px;\n",
              "    }\n",
              "\n",
              "    .colab-df-convert:hover {\n",
              "      background-color: #E2EBFA;\n",
              "      box-shadow: 0px 1px 2px rgba(60, 64, 67, 0.3), 0px 1px 3px 1px rgba(60, 64, 67, 0.15);\n",
              "      fill: #174EA6;\n",
              "    }\n",
              "\n",
              "    [theme=dark] .colab-df-convert {\n",
              "      background-color: #3B4455;\n",
              "      fill: #D2E3FC;\n",
              "    }\n",
              "\n",
              "    [theme=dark] .colab-df-convert:hover {\n",
              "      background-color: #434B5C;\n",
              "      box-shadow: 0px 1px 3px 1px rgba(0, 0, 0, 0.15);\n",
              "      filter: drop-shadow(0px 1px 2px rgba(0, 0, 0, 0.3));\n",
              "      fill: #FFFFFF;\n",
              "    }\n",
              "  </style>\n",
              "\n",
              "      <script>\n",
              "        const buttonEl =\n",
              "          document.querySelector('#df-465150de-08a1-4a93-92af-a45bb7371806 button.colab-df-convert');\n",
              "        buttonEl.style.display =\n",
              "          google.colab.kernel.accessAllowed ? 'block' : 'none';\n",
              "\n",
              "        async function convertToInteractive(key) {\n",
              "          const element = document.querySelector('#df-465150de-08a1-4a93-92af-a45bb7371806');\n",
              "          const dataTable =\n",
              "            await google.colab.kernel.invokeFunction('convertToInteractive',\n",
              "                                                     [key], {});\n",
              "          if (!dataTable) return;\n",
              "\n",
              "          const docLinkHtml = 'Like what you see? Visit the ' +\n",
              "            '<a target=\"_blank\" href=https://colab.research.google.com/notebooks/data_table.ipynb>data table notebook</a>'\n",
              "            + ' to learn more about interactive tables.';\n",
              "          element.innerHTML = '';\n",
              "          dataTable['output_type'] = 'display_data';\n",
              "          await google.colab.output.renderOutput(dataTable, element);\n",
              "          const docLink = document.createElement('div');\n",
              "          docLink.innerHTML = docLinkHtml;\n",
              "          element.appendChild(docLink);\n",
              "        }\n",
              "      </script>\n",
              "    </div>\n",
              "  </div>\n",
              "  "
            ]
          },
          "metadata": {},
          "execution_count": 28
        }
      ]
    },
    {
      "cell_type": "code",
      "source": [
        "sample_data3 = sma_data[sma_data.region == 3]"
      ],
      "metadata": {
        "id": "A4X1lTIhol_n"
      },
      "execution_count": 29,
      "outputs": []
    },
    {
      "cell_type": "code",
      "source": [
        "sample_data3.shape"
      ],
      "metadata": {
        "colab": {
          "base_uri": "https://localhost:8080/"
        },
        "id": "oXEXXImbo0sS",
        "outputId": "0656877a-6ada-4235-b453-ebd15a566164"
      },
      "execution_count": 30,
      "outputs": [
        {
          "output_type": "execute_result",
          "data": {
            "text/plain": [
              "(36, 10)"
            ]
          },
          "metadata": {},
          "execution_count": 30
        }
      ]
    },
    {
      "cell_type": "code",
      "source": [
        "sample_data3.info()"
      ],
      "metadata": {
        "colab": {
          "base_uri": "https://localhost:8080/"
        },
        "id": "f4SYeSggo66X",
        "outputId": "81cdc2fc-aa1d-4d8f-f8ef-55c32401ed45"
      },
      "execution_count": 31,
      "outputs": [
        {
          "output_type": "stream",
          "name": "stdout",
          "text": [
            "<class 'pandas.core.frame.DataFrame'>\n",
            "Int64Index: 36 entries, 5 to 98\n",
            "Data columns (total 10 columns):\n",
            " #   Column          Non-Null Count  Dtype  \n",
            "---  ------          --------------  -----  \n",
            " 0   land_area       36 non-null     int64  \n",
            " 1   percent_city    36 non-null     float64\n",
            " 2   percent_senior  36 non-null     float64\n",
            " 3   physicians      36 non-null     int64  \n",
            " 4   hospital_beds   36 non-null     int64  \n",
            " 5   graduates       36 non-null     float64\n",
            " 6   work_force      36 non-null     float64\n",
            " 7   income          36 non-null     int64  \n",
            " 8   region          36 non-null     int64  \n",
            " 9   crime_rate      36 non-null     float64\n",
            "dtypes: float64(5), int64(5)\n",
            "memory usage: 3.1 KB\n"
          ]
        }
      ]
    },
    {
      "cell_type": "code",
      "source": [
        ""
      ],
      "metadata": {
        "colab": {
          "base_uri": "https://localhost:8080/",
          "height": 165
        },
        "id": "HBi6NoeKqNCt",
        "outputId": "e31ed67c-d097-4e90-dcd1-11f84c95283b"
      },
      "execution_count": 1,
      "outputs": [
        {
          "output_type": "error",
          "ename": "NameError",
          "evalue": "ignored",
          "traceback": [
            "\u001b[0;31m---------------------------------------------------------------------------\u001b[0m",
            "\u001b[0;31mNameError\u001b[0m                                 Traceback (most recent call last)",
            "\u001b[0;32m<ipython-input-1-1bb413a97da6>\u001b[0m in \u001b[0;36m<module>\u001b[0;34m()\u001b[0m\n\u001b[0;32m----> 1\u001b[0;31m \u001b[0msm_data\u001b[0m\u001b[0;34m.\u001b[0m\u001b[0misnull\u001b[0m\u001b[0;34m(\u001b[0m\u001b[0;34m)\u001b[0m\u001b[0;34m.\u001b[0m\u001b[0msum\u001b[0m\u001b[0;34m(\u001b[0m\u001b[0;34m)\u001b[0m\u001b[0;34m\u001b[0m\u001b[0;34m\u001b[0m\u001b[0m\n\u001b[0m",
            "\u001b[0;31mNameError\u001b[0m: name 'sm_data' is not defined"
          ]
        }
      ]
    },
    {
      "cell_type": "code",
      "source": [
        "sample_data3.describe()"
      ],
      "metadata": {
        "colab": {
          "base_uri": "https://localhost:8080/",
          "height": 300
        },
        "id": "2zIgom65pN5R",
        "outputId": "f1477576-402e-4bac-86b6-7064575045b8"
      },
      "execution_count": 32,
      "outputs": [
        {
          "output_type": "execute_result",
          "data": {
            "text/plain": [
              "         land_area  percent_city  percent_senior   physicians  hospital_beds  \\\n",
              "count    36.000000     36.000000       36.000000    36.000000      36.000000   \n",
              "mean   2485.972222     46.172222        9.283333  1313.722222    4962.777778   \n",
              "std    1653.813800     19.101019        3.458199  1459.654903    3879.692625   \n",
              "min     654.000000     14.500000        3.900000   140.000000     481.000000   \n",
              "25%    1517.000000     31.350000        7.600000   509.750000    2483.500000   \n",
              "50%    2018.000000     47.000000        8.850000   767.000000    3876.000000   \n",
              "75%    2911.000000     59.725000        9.975000  1583.500000    5811.750000   \n",
              "max    8360.000000     90.700000       21.800000  7340.000000   16941.000000   \n",
              "\n",
              "       graduates   work_force        income  region  crime_rate  \n",
              "count  36.000000    36.000000     36.000000    36.0   36.000000  \n",
              "mean   51.002778   343.797222   4806.861111     3.0   58.265556  \n",
              "std     7.328164   354.312228   5452.647656     0.0   10.155822  \n",
              "min    30.300000    66.900000    769.000000     3.0   36.360000  \n",
              "25%    46.950000   146.200000   1940.750000     3.0   52.447500  \n",
              "50%    50.950000   230.550000   2976.500000     3.0   58.725000  \n",
              "75%    55.175000   366.950000   4829.500000     3.0   64.922500  \n",
              "max    70.700000  1541.900000  25663.000000     3.0   76.350000  "
            ],
            "text/html": [
              "\n",
              "  <div id=\"df-b88a998e-0af0-46af-8744-bae9970c1881\">\n",
              "    <div class=\"colab-df-container\">\n",
              "      <div>\n",
              "<style scoped>\n",
              "    .dataframe tbody tr th:only-of-type {\n",
              "        vertical-align: middle;\n",
              "    }\n",
              "\n",
              "    .dataframe tbody tr th {\n",
              "        vertical-align: top;\n",
              "    }\n",
              "\n",
              "    .dataframe thead th {\n",
              "        text-align: right;\n",
              "    }\n",
              "</style>\n",
              "<table border=\"1\" class=\"dataframe\">\n",
              "  <thead>\n",
              "    <tr style=\"text-align: right;\">\n",
              "      <th></th>\n",
              "      <th>land_area</th>\n",
              "      <th>percent_city</th>\n",
              "      <th>percent_senior</th>\n",
              "      <th>physicians</th>\n",
              "      <th>hospital_beds</th>\n",
              "      <th>graduates</th>\n",
              "      <th>work_force</th>\n",
              "      <th>income</th>\n",
              "      <th>region</th>\n",
              "      <th>crime_rate</th>\n",
              "    </tr>\n",
              "  </thead>\n",
              "  <tbody>\n",
              "    <tr>\n",
              "      <th>count</th>\n",
              "      <td>36.000000</td>\n",
              "      <td>36.000000</td>\n",
              "      <td>36.000000</td>\n",
              "      <td>36.000000</td>\n",
              "      <td>36.000000</td>\n",
              "      <td>36.000000</td>\n",
              "      <td>36.000000</td>\n",
              "      <td>36.000000</td>\n",
              "      <td>36.0</td>\n",
              "      <td>36.000000</td>\n",
              "    </tr>\n",
              "    <tr>\n",
              "      <th>mean</th>\n",
              "      <td>2485.972222</td>\n",
              "      <td>46.172222</td>\n",
              "      <td>9.283333</td>\n",
              "      <td>1313.722222</td>\n",
              "      <td>4962.777778</td>\n",
              "      <td>51.002778</td>\n",
              "      <td>343.797222</td>\n",
              "      <td>4806.861111</td>\n",
              "      <td>3.0</td>\n",
              "      <td>58.265556</td>\n",
              "    </tr>\n",
              "    <tr>\n",
              "      <th>std</th>\n",
              "      <td>1653.813800</td>\n",
              "      <td>19.101019</td>\n",
              "      <td>3.458199</td>\n",
              "      <td>1459.654903</td>\n",
              "      <td>3879.692625</td>\n",
              "      <td>7.328164</td>\n",
              "      <td>354.312228</td>\n",
              "      <td>5452.647656</td>\n",
              "      <td>0.0</td>\n",
              "      <td>10.155822</td>\n",
              "    </tr>\n",
              "    <tr>\n",
              "      <th>min</th>\n",
              "      <td>654.000000</td>\n",
              "      <td>14.500000</td>\n",
              "      <td>3.900000</td>\n",
              "      <td>140.000000</td>\n",
              "      <td>481.000000</td>\n",
              "      <td>30.300000</td>\n",
              "      <td>66.900000</td>\n",
              "      <td>769.000000</td>\n",
              "      <td>3.0</td>\n",
              "      <td>36.360000</td>\n",
              "    </tr>\n",
              "    <tr>\n",
              "      <th>25%</th>\n",
              "      <td>1517.000000</td>\n",
              "      <td>31.350000</td>\n",
              "      <td>7.600000</td>\n",
              "      <td>509.750000</td>\n",
              "      <td>2483.500000</td>\n",
              "      <td>46.950000</td>\n",
              "      <td>146.200000</td>\n",
              "      <td>1940.750000</td>\n",
              "      <td>3.0</td>\n",
              "      <td>52.447500</td>\n",
              "    </tr>\n",
              "    <tr>\n",
              "      <th>50%</th>\n",
              "      <td>2018.000000</td>\n",
              "      <td>47.000000</td>\n",
              "      <td>8.850000</td>\n",
              "      <td>767.000000</td>\n",
              "      <td>3876.000000</td>\n",
              "      <td>50.950000</td>\n",
              "      <td>230.550000</td>\n",
              "      <td>2976.500000</td>\n",
              "      <td>3.0</td>\n",
              "      <td>58.725000</td>\n",
              "    </tr>\n",
              "    <tr>\n",
              "      <th>75%</th>\n",
              "      <td>2911.000000</td>\n",
              "      <td>59.725000</td>\n",
              "      <td>9.975000</td>\n",
              "      <td>1583.500000</td>\n",
              "      <td>5811.750000</td>\n",
              "      <td>55.175000</td>\n",
              "      <td>366.950000</td>\n",
              "      <td>4829.500000</td>\n",
              "      <td>3.0</td>\n",
              "      <td>64.922500</td>\n",
              "    </tr>\n",
              "    <tr>\n",
              "      <th>max</th>\n",
              "      <td>8360.000000</td>\n",
              "      <td>90.700000</td>\n",
              "      <td>21.800000</td>\n",
              "      <td>7340.000000</td>\n",
              "      <td>16941.000000</td>\n",
              "      <td>70.700000</td>\n",
              "      <td>1541.900000</td>\n",
              "      <td>25663.000000</td>\n",
              "      <td>3.0</td>\n",
              "      <td>76.350000</td>\n",
              "    </tr>\n",
              "  </tbody>\n",
              "</table>\n",
              "</div>\n",
              "      <button class=\"colab-df-convert\" onclick=\"convertToInteractive('df-b88a998e-0af0-46af-8744-bae9970c1881')\"\n",
              "              title=\"Convert this dataframe to an interactive table.\"\n",
              "              style=\"display:none;\">\n",
              "        \n",
              "  <svg xmlns=\"http://www.w3.org/2000/svg\" height=\"24px\"viewBox=\"0 0 24 24\"\n",
              "       width=\"24px\">\n",
              "    <path d=\"M0 0h24v24H0V0z\" fill=\"none\"/>\n",
              "    <path d=\"M18.56 5.44l.94 2.06.94-2.06 2.06-.94-2.06-.94-.94-2.06-.94 2.06-2.06.94zm-11 1L8.5 8.5l.94-2.06 2.06-.94-2.06-.94L8.5 2.5l-.94 2.06-2.06.94zm10 10l.94 2.06.94-2.06 2.06-.94-2.06-.94-.94-2.06-.94 2.06-2.06.94z\"/><path d=\"M17.41 7.96l-1.37-1.37c-.4-.4-.92-.59-1.43-.59-.52 0-1.04.2-1.43.59L10.3 9.45l-7.72 7.72c-.78.78-.78 2.05 0 2.83L4 21.41c.39.39.9.59 1.41.59.51 0 1.02-.2 1.41-.59l7.78-7.78 2.81-2.81c.8-.78.8-2.07 0-2.86zM5.41 20L4 18.59l7.72-7.72 1.47 1.35L5.41 20z\"/>\n",
              "  </svg>\n",
              "      </button>\n",
              "      \n",
              "  <style>\n",
              "    .colab-df-container {\n",
              "      display:flex;\n",
              "      flex-wrap:wrap;\n",
              "      gap: 12px;\n",
              "    }\n",
              "\n",
              "    .colab-df-convert {\n",
              "      background-color: #E8F0FE;\n",
              "      border: none;\n",
              "      border-radius: 50%;\n",
              "      cursor: pointer;\n",
              "      display: none;\n",
              "      fill: #1967D2;\n",
              "      height: 32px;\n",
              "      padding: 0 0 0 0;\n",
              "      width: 32px;\n",
              "    }\n",
              "\n",
              "    .colab-df-convert:hover {\n",
              "      background-color: #E2EBFA;\n",
              "      box-shadow: 0px 1px 2px rgba(60, 64, 67, 0.3), 0px 1px 3px 1px rgba(60, 64, 67, 0.15);\n",
              "      fill: #174EA6;\n",
              "    }\n",
              "\n",
              "    [theme=dark] .colab-df-convert {\n",
              "      background-color: #3B4455;\n",
              "      fill: #D2E3FC;\n",
              "    }\n",
              "\n",
              "    [theme=dark] .colab-df-convert:hover {\n",
              "      background-color: #434B5C;\n",
              "      box-shadow: 0px 1px 3px 1px rgba(0, 0, 0, 0.15);\n",
              "      filter: drop-shadow(0px 1px 2px rgba(0, 0, 0, 0.3));\n",
              "      fill: #FFFFFF;\n",
              "    }\n",
              "  </style>\n",
              "\n",
              "      <script>\n",
              "        const buttonEl =\n",
              "          document.querySelector('#df-b88a998e-0af0-46af-8744-bae9970c1881 button.colab-df-convert');\n",
              "        buttonEl.style.display =\n",
              "          google.colab.kernel.accessAllowed ? 'block' : 'none';\n",
              "\n",
              "        async function convertToInteractive(key) {\n",
              "          const element = document.querySelector('#df-b88a998e-0af0-46af-8744-bae9970c1881');\n",
              "          const dataTable =\n",
              "            await google.colab.kernel.invokeFunction('convertToInteractive',\n",
              "                                                     [key], {});\n",
              "          if (!dataTable) return;\n",
              "\n",
              "          const docLinkHtml = 'Like what you see? Visit the ' +\n",
              "            '<a target=\"_blank\" href=https://colab.research.google.com/notebooks/data_table.ipynb>data table notebook</a>'\n",
              "            + ' to learn more about interactive tables.';\n",
              "          element.innerHTML = '';\n",
              "          dataTable['output_type'] = 'display_data';\n",
              "          await google.colab.output.renderOutput(dataTable, element);\n",
              "          const docLink = document.createElement('div');\n",
              "          docLink.innerHTML = docLinkHtml;\n",
              "          element.appendChild(docLink);\n",
              "        }\n",
              "      </script>\n",
              "    </div>\n",
              "  </div>\n",
              "  "
            ]
          },
          "metadata": {},
          "execution_count": 32
        }
      ]
    },
    {
      "cell_type": "code",
      "source": [
        "sma_data.isnull().sum()"
      ],
      "metadata": {
        "colab": {
          "base_uri": "https://localhost:8080/",
          "height": 165
        },
        "id": "gKv_3bjlqogF",
        "outputId": "b5b0d288-97fe-4ffa-dde6-a47a67f07d1e"
      },
      "execution_count": 2,
      "outputs": [
        {
          "output_type": "error",
          "ename": "NameError",
          "evalue": "ignored",
          "traceback": [
            "\u001b[0;31m---------------------------------------------------------------------------\u001b[0m",
            "\u001b[0;31mNameError\u001b[0m                                 Traceback (most recent call last)",
            "\u001b[0;32m<ipython-input-2-920320d4220e>\u001b[0m in \u001b[0;36m<module>\u001b[0;34m()\u001b[0m\n\u001b[0;32m----> 1\u001b[0;31m \u001b[0msma_data\u001b[0m\u001b[0;34m.\u001b[0m\u001b[0misnull\u001b[0m\u001b[0;34m(\u001b[0m\u001b[0;34m)\u001b[0m\u001b[0;34m.\u001b[0m\u001b[0msum\u001b[0m\u001b[0;34m(\u001b[0m\u001b[0;34m)\u001b[0m\u001b[0;34m\u001b[0m\u001b[0;34m\u001b[0m\u001b[0m\n\u001b[0m",
            "\u001b[0;31mNameError\u001b[0m: name 'sma_data' is not defined"
          ]
        }
      ]
    },
    {
      "cell_type": "code",
      "source": [
        "sma_data.region.unique"
      ],
      "metadata": {
        "colab": {
          "base_uri": "https://localhost:8080/"
        },
        "id": "3nyY-6zrpxL9",
        "outputId": "201294b0-8bf4-4900-c791-44e4c8a9d35b"
      },
      "execution_count": 33,
      "outputs": [
        {
          "output_type": "execute_result",
          "data": {
            "text/plain": [
              "<bound method Series.unique of 0     1\n",
              "1     2\n",
              "2     1\n",
              "3     2\n",
              "4     4\n",
              "     ..\n",
              "94    4\n",
              "95    3\n",
              "96    3\n",
              "97    1\n",
              "98    3\n",
              "Name: region, Length: 99, dtype: int64>"
            ]
          },
          "metadata": {},
          "execution_count": 33
        }
      ]
    },
    {
      "cell_type": "code",
      "source": [
        "sma_data.region.value_counts()"
      ],
      "metadata": {
        "colab": {
          "base_uri": "https://localhost:8080/"
        },
        "id": "6BDB0xc3p6YE",
        "outputId": "14d5c39f-ea89-4c58-efdb-0fd95a4d8826"
      },
      "execution_count": 34,
      "outputs": [
        {
          "output_type": "execute_result",
          "data": {
            "text/plain": [
              "3    36\n",
              "2    25\n",
              "1    21\n",
              "4    17\n",
              "Name: region, dtype: int64"
            ]
          },
          "metadata": {},
          "execution_count": 34
        }
      ]
    },
    {
      "cell_type": "code",
      "source": [
        "sma_data.columns"
      ],
      "metadata": {
        "colab": {
          "base_uri": "https://localhost:8080/"
        },
        "id": "tUf_ZLuQvnj7",
        "outputId": "d2bc4a51-9aba-4474-f6f1-8aec0f36bd2e"
      },
      "execution_count": 35,
      "outputs": [
        {
          "output_type": "execute_result",
          "data": {
            "text/plain": [
              "Index(['land_area', 'percent_city', 'percent_senior', 'physicians',\n",
              "       'hospital_beds', 'graduates', 'work_force', 'income', 'region',\n",
              "       'crime_rate'],\n",
              "      dtype='object')"
            ]
          },
          "metadata": {},
          "execution_count": 35
        }
      ]
    },
    {
      "cell_type": "code",
      "source": [
        "sma_data.sort_values(by = 'crime_rate', ascending = False).head()"
      ],
      "metadata": {
        "colab": {
          "base_uri": "https://localhost:8080/",
          "height": 206
        },
        "id": "qJ2veBMDwXuh",
        "outputId": "eeeb8250-eee8-40f7-b04e-aa5ee4220f42"
      },
      "execution_count": 37,
      "outputs": [
        {
          "output_type": "execute_result",
          "data": {
            "text/plain": [
              "    land_area  percent_city  percent_senior  physicians  hospital_beds  \\\n",
              "20       9155          53.8            11.1        2280           6450   \n",
              "74       1412          39.2            11.3         436           1837   \n",
              "53       5966          39.5             9.6         737           1907   \n",
              "4        2480          31.5            10.5        8502          16751   \n",
              "67       8152          22.3             9.1         405           1254   \n",
              "\n",
              "    graduates  work_force  income  region  crime_rate  \n",
              "20       60.1       575.2    7766       4       85.62  \n",
              "74       49.4       154.2    2098       4       82.68  \n",
              "53       52.7       246.6    3007       4       80.94  \n",
              "4        66.1      1514.5   26573       4       80.19  \n",
              "67       51.7       165.6    2257       4       78.10  "
            ],
            "text/html": [
              "\n",
              "  <div id=\"df-b2234c7a-c338-49e8-a544-126330cbbec6\">\n",
              "    <div class=\"colab-df-container\">\n",
              "      <div>\n",
              "<style scoped>\n",
              "    .dataframe tbody tr th:only-of-type {\n",
              "        vertical-align: middle;\n",
              "    }\n",
              "\n",
              "    .dataframe tbody tr th {\n",
              "        vertical-align: top;\n",
              "    }\n",
              "\n",
              "    .dataframe thead th {\n",
              "        text-align: right;\n",
              "    }\n",
              "</style>\n",
              "<table border=\"1\" class=\"dataframe\">\n",
              "  <thead>\n",
              "    <tr style=\"text-align: right;\">\n",
              "      <th></th>\n",
              "      <th>land_area</th>\n",
              "      <th>percent_city</th>\n",
              "      <th>percent_senior</th>\n",
              "      <th>physicians</th>\n",
              "      <th>hospital_beds</th>\n",
              "      <th>graduates</th>\n",
              "      <th>work_force</th>\n",
              "      <th>income</th>\n",
              "      <th>region</th>\n",
              "      <th>crime_rate</th>\n",
              "    </tr>\n",
              "  </thead>\n",
              "  <tbody>\n",
              "    <tr>\n",
              "      <th>20</th>\n",
              "      <td>9155</td>\n",
              "      <td>53.8</td>\n",
              "      <td>11.1</td>\n",
              "      <td>2280</td>\n",
              "      <td>6450</td>\n",
              "      <td>60.1</td>\n",
              "      <td>575.2</td>\n",
              "      <td>7766</td>\n",
              "      <td>4</td>\n",
              "      <td>85.62</td>\n",
              "    </tr>\n",
              "    <tr>\n",
              "      <th>74</th>\n",
              "      <td>1412</td>\n",
              "      <td>39.2</td>\n",
              "      <td>11.3</td>\n",
              "      <td>436</td>\n",
              "      <td>1837</td>\n",
              "      <td>49.4</td>\n",
              "      <td>154.2</td>\n",
              "      <td>2098</td>\n",
              "      <td>4</td>\n",
              "      <td>82.68</td>\n",
              "    </tr>\n",
              "    <tr>\n",
              "      <th>53</th>\n",
              "      <td>5966</td>\n",
              "      <td>39.5</td>\n",
              "      <td>9.6</td>\n",
              "      <td>737</td>\n",
              "      <td>1907</td>\n",
              "      <td>52.7</td>\n",
              "      <td>246.6</td>\n",
              "      <td>3007</td>\n",
              "      <td>4</td>\n",
              "      <td>80.94</td>\n",
              "    </tr>\n",
              "    <tr>\n",
              "      <th>4</th>\n",
              "      <td>2480</td>\n",
              "      <td>31.5</td>\n",
              "      <td>10.5</td>\n",
              "      <td>8502</td>\n",
              "      <td>16751</td>\n",
              "      <td>66.1</td>\n",
              "      <td>1514.5</td>\n",
              "      <td>26573</td>\n",
              "      <td>4</td>\n",
              "      <td>80.19</td>\n",
              "    </tr>\n",
              "    <tr>\n",
              "      <th>67</th>\n",
              "      <td>8152</td>\n",
              "      <td>22.3</td>\n",
              "      <td>9.1</td>\n",
              "      <td>405</td>\n",
              "      <td>1254</td>\n",
              "      <td>51.7</td>\n",
              "      <td>165.6</td>\n",
              "      <td>2257</td>\n",
              "      <td>4</td>\n",
              "      <td>78.10</td>\n",
              "    </tr>\n",
              "  </tbody>\n",
              "</table>\n",
              "</div>\n",
              "      <button class=\"colab-df-convert\" onclick=\"convertToInteractive('df-b2234c7a-c338-49e8-a544-126330cbbec6')\"\n",
              "              title=\"Convert this dataframe to an interactive table.\"\n",
              "              style=\"display:none;\">\n",
              "        \n",
              "  <svg xmlns=\"http://www.w3.org/2000/svg\" height=\"24px\"viewBox=\"0 0 24 24\"\n",
              "       width=\"24px\">\n",
              "    <path d=\"M0 0h24v24H0V0z\" fill=\"none\"/>\n",
              "    <path d=\"M18.56 5.44l.94 2.06.94-2.06 2.06-.94-2.06-.94-.94-2.06-.94 2.06-2.06.94zm-11 1L8.5 8.5l.94-2.06 2.06-.94-2.06-.94L8.5 2.5l-.94 2.06-2.06.94zm10 10l.94 2.06.94-2.06 2.06-.94-2.06-.94-.94-2.06-.94 2.06-2.06.94z\"/><path d=\"M17.41 7.96l-1.37-1.37c-.4-.4-.92-.59-1.43-.59-.52 0-1.04.2-1.43.59L10.3 9.45l-7.72 7.72c-.78.78-.78 2.05 0 2.83L4 21.41c.39.39.9.59 1.41.59.51 0 1.02-.2 1.41-.59l7.78-7.78 2.81-2.81c.8-.78.8-2.07 0-2.86zM5.41 20L4 18.59l7.72-7.72 1.47 1.35L5.41 20z\"/>\n",
              "  </svg>\n",
              "      </button>\n",
              "      \n",
              "  <style>\n",
              "    .colab-df-container {\n",
              "      display:flex;\n",
              "      flex-wrap:wrap;\n",
              "      gap: 12px;\n",
              "    }\n",
              "\n",
              "    .colab-df-convert {\n",
              "      background-color: #E8F0FE;\n",
              "      border: none;\n",
              "      border-radius: 50%;\n",
              "      cursor: pointer;\n",
              "      display: none;\n",
              "      fill: #1967D2;\n",
              "      height: 32px;\n",
              "      padding: 0 0 0 0;\n",
              "      width: 32px;\n",
              "    }\n",
              "\n",
              "    .colab-df-convert:hover {\n",
              "      background-color: #E2EBFA;\n",
              "      box-shadow: 0px 1px 2px rgba(60, 64, 67, 0.3), 0px 1px 3px 1px rgba(60, 64, 67, 0.15);\n",
              "      fill: #174EA6;\n",
              "    }\n",
              "\n",
              "    [theme=dark] .colab-df-convert {\n",
              "      background-color: #3B4455;\n",
              "      fill: #D2E3FC;\n",
              "    }\n",
              "\n",
              "    [theme=dark] .colab-df-convert:hover {\n",
              "      background-color: #434B5C;\n",
              "      box-shadow: 0px 1px 3px 1px rgba(0, 0, 0, 0.15);\n",
              "      filter: drop-shadow(0px 1px 2px rgba(0, 0, 0, 0.3));\n",
              "      fill: #FFFFFF;\n",
              "    }\n",
              "  </style>\n",
              "\n",
              "      <script>\n",
              "        const buttonEl =\n",
              "          document.querySelector('#df-b2234c7a-c338-49e8-a544-126330cbbec6 button.colab-df-convert');\n",
              "        buttonEl.style.display =\n",
              "          google.colab.kernel.accessAllowed ? 'block' : 'none';\n",
              "\n",
              "        async function convertToInteractive(key) {\n",
              "          const element = document.querySelector('#df-b2234c7a-c338-49e8-a544-126330cbbec6');\n",
              "          const dataTable =\n",
              "            await google.colab.kernel.invokeFunction('convertToInteractive',\n",
              "                                                     [key], {});\n",
              "          if (!dataTable) return;\n",
              "\n",
              "          const docLinkHtml = 'Like what you see? Visit the ' +\n",
              "            '<a target=\"_blank\" href=https://colab.research.google.com/notebooks/data_table.ipynb>data table notebook</a>'\n",
              "            + ' to learn more about interactive tables.';\n",
              "          element.innerHTML = '';\n",
              "          dataTable['output_type'] = 'display_data';\n",
              "          await google.colab.output.renderOutput(dataTable, element);\n",
              "          const docLink = document.createElement('div');\n",
              "          docLink.innerHTML = docLinkHtml;\n",
              "          element.appendChild(docLink);\n",
              "        }\n",
              "      </script>\n",
              "    </div>\n",
              "  </div>\n",
              "  "
            ]
          },
          "metadata": {},
          "execution_count": 37
        }
      ]
    },
    {
      "cell_type": "code",
      "source": [
        "sma_data.rename(columns = {'physicians': 'num_physicians'}, inplace = False)\n",
        "sma_data.columns"
      ],
      "metadata": {
        "colab": {
          "base_uri": "https://localhost:8080/"
        },
        "id": "yqRoCq23xOTU",
        "outputId": "fb8d2b60-2bf1-47b7-eda3-05934d9db1d8"
      },
      "execution_count": 39,
      "outputs": [
        {
          "output_type": "execute_result",
          "data": {
            "text/plain": [
              "Index(['land_area', 'percent_city', 'percent_senior', 'num_physicians',\n",
              "       'hospital_beds', 'graduates', 'work_force', 'income', 'region',\n",
              "       'crime_rate'],\n",
              "      dtype='object')"
            ]
          },
          "metadata": {},
          "execution_count": 39
        }
      ]
    },
    {
      "cell_type": "code",
      "source": [
        "sma_data.rename(columns = {'physicians': 'num_physicians'}, inplace = False)\n",
        "sma_data.columns"
      ],
      "metadata": {
        "colab": {
          "base_uri": "https://localhost:8080/"
        },
        "id": "kQRFc1jmxURF",
        "outputId": "11e57447-72fe-4f1d-b04a-299a9af40f60"
      },
      "execution_count": 40,
      "outputs": [
        {
          "output_type": "execute_result",
          "data": {
            "text/plain": [
              "Index(['land_area', 'percent_city', 'percent_senior', 'num_physicians',\n",
              "       'hospital_beds', 'graduates', 'work_force', 'income', 'region',\n",
              "       'crime_rate'],\n",
              "      dtype='object')"
            ]
          },
          "metadata": {},
          "execution_count": 40
        }
      ]
    },
    {
      "cell_type": "code",
      "source": [
        "sma_data.rename(columns = {'physicians': 'num_physicians'})\n",
        "\n",
        "sma_data.columns"
      ],
      "metadata": {
        "colab": {
          "base_uri": "https://localhost:8080/"
        },
        "id": "TG54aBqUxkWW",
        "outputId": "c2fe2228-502e-4663-8243-24818d4f1777"
      },
      "execution_count": 41,
      "outputs": [
        {
          "output_type": "execute_result",
          "data": {
            "text/plain": [
              "Index(['land_area', 'percent_city', 'percent_senior', 'num_physicians',\n",
              "       'hospital_beds', 'graduates', 'work_force', 'income', 'region',\n",
              "       'crime_rate'],\n",
              "      dtype='object')"
            ]
          },
          "metadata": {},
          "execution_count": 41
        }
      ]
    },
    {
      "cell_type": "code",
      "source": [
        "import matplotlib.pyplot as plt\n",
        "plt.scatter(sma_data.crime_rate, sma_data.percent_senior)\n"
      ],
      "metadata": {
        "colab": {
          "base_uri": "https://localhost:8080/",
          "height": 284
        },
        "id": "QYHEmYv-4gud",
        "outputId": "9a97efec-8db7-4891-a554-c90d03e53009"
      },
      "execution_count": 10,
      "outputs": [
        {
          "output_type": "execute_result",
          "data": {
            "text/plain": [
              "<matplotlib.collections.PathCollection at 0x7f42a23dbf90>"
            ]
          },
          "metadata": {},
          "execution_count": 10
        },
        {
          "output_type": "display_data",
          "data": {
            "text/plain": [
              "<Figure size 432x288 with 1 Axes>"
            ],
            "image/png": "[encoded data removed]"
          },
          "metadata": {
            "needs_background": "light"
          }
        }
      ]
    },
    {
      "cell_type": "code",
      "source": [
        "plt.plot(sma_data.land_area, sma_data.crime_rate)\n"
      ],
      "metadata": {
        "colab": {
          "base_uri": "https://localhost:8080/",
          "height": 282
        },
        "id": "u9_XXGoF5ISS",
        "outputId": "b5b29222-ab33-425e-d2e7-e94e96befcf0"
      },
      "execution_count": 11,
      "outputs": [
        {
          "output_type": "execute_result",
          "data": {
            "text/plain": [
              "[<matplotlib.lines.Line2D at 0x7f42a24188d0>]"
            ]
          },
          "metadata": {},
          "execution_count": 11
        },
        {
          "output_type": "display_data",
          "data": {
            "text/plain": [
              "<Figure size 432x288 with 1 Axes>"
            ],
            "image/png": "[encoded data removed]"
          },
          "metadata": {
            "needs_background": "light"
          }
        }
      ]
    },
    {
      "cell_type": "code",
      "source": [
        "plt.bar(sma_data.region.value_counts(),sma_data.region.value_counts())"
      ],
      "metadata": {
        "colab": {
          "base_uri": "https://localhost:8080/",
          "height": 282
        },
        "id": "5eqWNUdZ_oui",
        "outputId": "a9cc0ec8-a479-4deb-f64f-9de7b3a89e82"
      },
      "execution_count": 14,
      "outputs": [
        {
          "output_type": "execute_result",
          "data": {
            "text/plain": [
              "<BarContainer object of 4 artists>"
            ]
          },
          "metadata": {},
          "execution_count": 14
        },
        {
          "output_type": "display_data",
          "data": {
            "text/plain": [
              "<Figure size 432x288 with 1 Axes>"
            ],
            "image/png": "[encoded data removed]"
          },
          "metadata": {
            "needs_background": "light"
          }
        }
      ]
    },
    {
      "cell_type": "code",
      "source": [
        "plt.hist(sma_data.income)\n"
      ],
      "metadata": {
        "colab": {
          "base_uri": "https://localhost:8080/",
          "height": 334
        },
        "id": "QBnGNFmP51zi",
        "outputId": "c8c9e7b7-aec4-4667-9e5c-e29307b3cd30"
      },
      "execution_count": 15,
      "outputs": [
        {
          "output_type": "execute_result",
          "data": {
            "text/plain": [
              "(array([80.,  9.,  4.,  2.,  2.,  0.,  0.,  1.,  0.,  1.]),\n",
              " array([  769. ,  7902.1, 15035.2, 22168.3, 29301.4, 36434.5, 43567.6,\n",
              "        50700.7, 57833.8, 64966.9, 72100. ]),\n",
              " <a list of 10 Patch objects>)"
            ]
          },
          "metadata": {},
          "execution_count": 15
        },
        {
          "output_type": "display_data",
          "data": {
            "text/plain": [
              "<Figure size 432x288 with 1 Axes>"
            ],
            "image/png": "[encoded data removed]"
          },
          "metadata": {
            "needs_background": "light"
          }
        }
      ]
    }
  ]
}